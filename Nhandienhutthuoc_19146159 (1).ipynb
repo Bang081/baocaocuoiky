{
  "nbformat": 4,
  "nbformat_minor": 0,
  "metadata": {
    "colab": {
      "name": "Nhandienhutthuoc_19146159",
      "provenance": [],
      "collapsed_sections": []
    },
    "kernelspec": {
      "name": "python3",
      "display_name": "Python 3"
    },
    "language_info": {
      "name": "python"
    },
    "accelerator": "GPU",
    "gpuClass": "standard"
  },
  "cells": [
    {
      "cell_type": "code",
      "execution_count": null,
      "metadata": {
        "id": "eARTJBkxsYYG"
      },
      "outputs": [],
      "source": [
        "from google.colab import drive\n",
        "drive.mount('/content/gdrive')\n",
        "!ls /content/gdrive/MyDrive/data/training_data\n",
        "from pathlib import Path\n",
        "train_root = Path('/content/gdrive/MyDrive/data/training_data')\n",
        "test_root = Path('/content/gdrive/MyDrive/data/test')\n",
        "!ls /content/gdrive/MyDrive/data/training_data/smoking | wc -l\n"
      ]
    },
    {
      "cell_type": "code",
      "source": [
        "\n",
        "import tensorflow as tf\n",
        "# Build input pipeline with Keras\n",
        "batch_size = 32\n",
        "img_height = 224\n",
        "img_width = 224\n",
        "\n",
        "train_ds = tf.keras.utils.image_dataset_from_directory(\n",
        "    train_root,\n",
        "    subset = \"training\",\n",
        "    validation_split = 0.2,\n",
        "    seed = 123,\n",
        "    image_size = (img_height, img_width),\n",
        "    batch_size = batch_size\n",
        "    )\n",
        "val_ds = tf.keras.utils.image_dataset_from_directory(\n",
        "    train_root,\n",
        "    subset = \"validation\",\n",
        "    validation_split = 0.2,\n",
        "    seed = 123,\n",
        "    image_size = (img_height, img_width),\n",
        "    batch_size = batch_size\n",
        "    )"
      ],
      "metadata": {
        "id": "mUfMXV1EssxZ"
      },
      "execution_count": null,
      "outputs": []
    },
    {
      "cell_type": "code",
      "source": [
        "class_names = train_ds.class_names\n",
        "print(class_names)"
      ],
      "metadata": {
        "id": "g1MEp4SssxU2"
      },
      "execution_count": null,
      "outputs": []
    },
    {
      "cell_type": "code",
      "source": [
        "import matplotlib.pyplot as plt\n",
        "\n",
        "plt.figure(figsize = (10,10))\n",
        "for images, labels in train_ds.take(1):\n",
        "  for i in range(9):\n",
        "    ax = plt.subplot(3,3,i+1)\n",
        "    plt.imshow(images[i].numpy().astype(\"uint8\"))\n",
        "    plt.title(class_names[labels[i]])\n",
        "    plt.axis(\"ofF\")"
      ],
      "metadata": {
        "id": "o4vydFYLs0SY"
      },
      "execution_count": null,
      "outputs": []
    },
    {
      "cell_type": "code",
      "source": [
        "filelist_ds = tf.data.Dataset.list_files(str(train_root/'*/*'))\n",
        "for file in filelist_ds.take(9):\n",
        "  print(file)\n",
        "def get_label(file_path):\n",
        "  parts = tf.strings.split(file_path, '/')\n",
        "  if parts[-2] == \"smoking\":\n",
        "    labels = [1,0]\n",
        "  else:\n",
        "    labels = [0,1]\n",
        "  return tf.convert_to_tensor(labels)\n",
        "\n",
        "for file in filelist_ds.take(9):\n",
        "  print('filename: ', file.numpy().decode('utf-8'))\n",
        "  print('label: ',get_label(file).numpy())"
      ],
      "metadata": {
        "id": "gHE65hTUs31Z"
      },
      "execution_count": null,
      "outputs": []
    },
    {
      "cell_type": "code",
      "source": [
        "img_height = 224\n",
        "img_width = 224\n",
        "def preprocessing(file_path):\n",
        "  #read file\n",
        "  img = tf.io.read_file(file_path)\n",
        "  img = tf.image.decode_image(img, channels = 3, expand_animations = False) \n",
        "\n",
        "  #tranform\n",
        "  #convert from uint8 to float and normalize value to [0,1]\n",
        "  img = tf.image.convert_image_dtype(img, tf.float32)\n",
        "  #resize image\n",
        "  img = tf.image.resize(img ,[img_width, img_height])\n",
        "  #get image label\n",
        "  label = get_label(file_path)\n",
        "\n",
        "  #return\n",
        "  return img, label"
      ],
      "metadata": {
        "id": "P1_P6010tY3z"
      },
      "execution_count": null,
      "outputs": []
    },
    {
      "cell_type": "code",
      "source": [
        "import tensorflow as tf\n",
        "\n",
        "batch_size =32\n",
        "train_ds = filelist_ds.shuffle(1608) \n",
        "train_ds = train_ds.map(preprocessing, num_parallel_calls = tf.data.AUTOTUNE)\n",
        "train_ds = train_ds.batch(batch_size)\n",
        "train_ds = train_ds.prefetch(1)\n",
        "val_ds = filelist_ds.shuffle(402) \n",
        "val_ds = val_ds.map(preprocessing, num_parallel_calls = tf.data.AUTOTUNE)\n",
        "val_ds = val_ds.batch(batch_size)\n",
        "val_ds = val_ds.prefetch(1)\n",
        "from tensorflow.keras.applications import MobileNetV2\n",
        "from tensorflow.keras.layers import AveragePooling2D\n",
        "from tensorflow.keras.layers import Dropout\n",
        "from tensorflow.keras.layers import Flatten\n",
        "from tensorflow.keras.layers import Dense\n",
        "from tensorflow.keras.layers import Input\n",
        "from tensorflow.keras.models import Model\n",
        "baseModel = MobileNetV2(weights=\"imagenet\", include_top=False,input_tensor=Input(shape=(224, 224, 3)))\n",
        "tf.keras.utils.plot_model(model, 'model.png', show_shapes=True)"
      ],
      "metadata": {
        "id": "JDu43x9HtcSH"
      },
      "execution_count": null,
      "outputs": []
    },
    {
      "cell_type": "code",
      "source": [
        "tf.keras.utils.plot_model(model, 'model.png', show_shapes=True)"
      ],
      "metadata": {
        "id": "anURq_wnt8Ip"
      },
      "execution_count": null,
      "outputs": []
    },
    {
      "cell_type": "code",
      "source": [
        "from tensorflow.keras.optimizers import Adam\n",
        "from tensorflow.python.ops.gen_dataset_ops import optimize_dataset\n",
        "# compile model\n",
        "for layer in baseModel.layers:\n",
        "    layer.trainable = False\n",
        "opt = Adam(lr=1e-4, decay=1e-4 / 30)\n",
        "model.compile(loss=\"binary_crossentropy\", optimizer=opt,metrics=[\"accuracy\"])"
      ],
      "metadata": {
        "colab": {
          "base_uri": "https://localhost:8080/"
        },
        "id": "KC_LBQJ0uIMr",
        "outputId": "fa31bb51-d438-4258-9139-ed888aa82b00"
      },
      "execution_count": null,
      "outputs": [
        {
          "output_type": "stream",
          "name": "stderr",
          "text": [
            "/usr/local/lib/python3.7/dist-packages/keras/optimizer_v2/adam.py:105: UserWarning: The `lr` argument is deprecated, use `learning_rate` instead.\n",
            "  super(Adam, self).__init__(name, **kwargs)\n"
          ]
        }
      ]
    },
    {
      "cell_type": "code",
      "source": [
        "H = model.fit(train_ds,\n",
        "              validation_data = val_ds,\n",
        "              epochs = 20)"
      ],
      "metadata": {
        "id": "x5aBuZqSuJyR"
      },
      "execution_count": null,
      "outputs": []
    },
    {
      "cell_type": "code",
      "source": [
        "model_store_dir='/content/gdrive/MyDrive/weight.h5'\n",
        "model_json = model.to_json()\n",
        "with open(\"model_arch.json\", \"w\") as json_file:\n",
        "    json_file.write(model_json)\n",
        "model.save_weights(model_store_dir, save_format=\"h5\")"
      ],
      "metadata": {
        "id": "kfl22-UW99E2"
      },
      "execution_count": null,
      "outputs": []
    },
    {
      "cell_type": "code",
      "source": [
        "model.load_weights(\"/content/gdrive/MyDrive/weight.h5\")\n",
        "print(model)"
      ],
      "metadata": {
        "id": "xOS4EwVu-gzV"
      },
      "execution_count": null,
      "outputs": []
    },
    {
      "cell_type": "code",
      "source": [
        "# Vẽ đồ thị giữa số lần học (Epochs) và độ chính xác (Accuracy)\n",
        "plt.plot(H.history['accuracy'])\n",
        "plt.plot(H.history['val_accuracy'])\n",
        "plt.title('Model Accuracy')\n",
        "plt.ylabel('Accuracy')\n",
        "plt.xlabel('Epochs')\n",
        "plt.legend(['Train','Validation'])\n",
        "plt.show"
      ],
      "metadata": {
        "id": "0r3mp6TWORV_"
      },
      "execution_count": null,
      "outputs": []
    },
    {
      "cell_type": "code",
      "source": [
        "from tensorflow.keras.optimizers import Adam\n",
        "\n",
        "opt = Adam(lr=1e-4, decay=1e-4 / 30)\n",
        "model.compile(loss=\"binary_crossentropy\", optimizer=opt,metrics=[\"accuracy\"])"
      ],
      "metadata": {
        "id": "SqAmOnH_-lAP"
      },
      "execution_count": null,
      "outputs": []
    },
    {
      "cell_type": "code",
      "source": [
        "from pathlib import Path\n",
        "train_root = Path('/content/gdrive/MyDrive/data/training_data')\n",
        "test_root = Path('/content/gdrive/MyDrive/data/test')"
      ],
      "metadata": {
        "id": "Dm7HOL60Ar28"
      },
      "execution_count": null,
      "outputs": []
    },
    {
      "cell_type": "code",
      "source": [
        "filelist_ds = tf.data.Dataset.list_files(str(train_root/'*/*'))\n",
        "for file in filelist_ds.take(9):\n",
        "  print(file)"
      ],
      "metadata": {
        "id": "QRaIfL0mLEG1"
      },
      "execution_count": null,
      "outputs": []
    },
    {
      "cell_type": "code",
      "source": [
        "from tensorflow.keras.models import Sequential, model_from_json\n",
        "json_file = open('/content/model_arch.json', 'r')\n",
        "loaded_model_json = json_file.read()\n",
        "json_file.close()\n",
        "model = model_from_json(loaded_model_json)\n",
        "model.load_weights(\"/content/gdrive/MyDrive/data/weight.h5\")\n",
        "print(model)\n",
        "img_path = '/content/ls.jpg'\n",
        "image = tf.keras.utils.load_img(\n",
        "    img_path,\n",
        "    grayscale=False,\n",
        "    color_mode='rgb',\n",
        "    target_size=(224, 224),\n",
        "    interpolation='nearest',\n",
        ")"
      ],
      "metadata": {
        "colab": {
          "base_uri": "https://localhost:8080/"
        },
        "outputId": "d4bfd177-4c40-48f9-b3e2-c9f9df3d7398",
        "id": "wK0hk_I3TJvz"
      },
      "execution_count": null,
      "outputs": [
        {
          "output_type": "stream",
          "name": "stdout",
          "text": [
            "<keras.engine.functional.Functional object at 0x7f5713deded0>\n"
          ]
        }
      ]
    },
    {
      "cell_type": "code",
      "source": [
        "import numpy as np\n",
        "input_arr = tf.keras.preprocessing.image.img_to_array(image)\n",
        "input_arr = np.array([input_arr])  # Convert single image to a batch.\n",
        "predictions = model.predict(input_arr)\n"
      ],
      "metadata": {
        "id": "_Hr6zeHPMS9R"
      },
      "execution_count": null,
      "outputs": []
    },
    {
      "cell_type": "code",
      "source": [
        "print(predictions[0][0])"
      ],
      "metadata": {
        "id": "wI4w8DX8MVu_"
      },
      "execution_count": null,
      "outputs": []
    },
    {
      "cell_type": "code",
      "source": [
        "import matplotlib.pyplot as plt\n",
        "plt.imshow(image)\n",
        "print(predictions)\n",
        "if (predictions[0][0] > 0.5):\n",
        "  print('Smoking')\n",
        "else: \n",
        "  print('Not Smoking')"
      ],
      "metadata": {
        "id": "Fq2XpXhgMY06"
      },
      "execution_count": null,
      "outputs": []
    }
  ]
}